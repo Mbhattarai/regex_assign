{
 "cells": [
  {
   "cell_type": "code",
   "execution_count": 10,
   "metadata": {},
   "outputs": [
    {
     "name": "stdout",
     "output_type": "stream",
     "text": [
      "not found\n"
     ]
    }
   ],
   "source": [
    "#1.search pattern brand and company if found print found else print not found#1.\n",
    "import re\n",
    "text = \"Apple is a tech Brand, not a fruit\"\n",
    "if re.findall(\"[a-zA-Z]brand\",text):\n",
    "    print(\"found \")\n",
    "else:\n",
    "    print(\"not found\")"
   ]
  },
  {
   "cell_type": "code",
   "execution_count": 12,
   "metadata": {},
   "outputs": [
    {
     "name": "stdout",
     "output_type": "stream",
     "text": [
      "['the list of given email are harry', 'gmail.com , ron', 'hotmail.com']\n"
     ]
    }
   ],
   "source": [
    "#2. split the given text at @\n",
    "\n",
    "phrase = 'the list of given email are harry@gmail.com , ron@hotmail.com'\n",
    "\n",
    "x = re.split('@',phrase)\n",
    "print(x)"
   ]
  },
  {
   "cell_type": "code",
   "execution_count": 32,
   "metadata": {},
   "outputs": [
    {
     "name": "stdout",
     "output_type": "stream",
     "text": [
      "hi  are you doing good \n"
     ]
    }
   ],
   "source": [
    "#3. Remove the punctation from the given sentence\n",
    "test_phrase = 'hi! are you doing good?'\n",
    "print(re.sub(r\"[!?]\",\" \",test_phrase))\n"
   ]
  },
  {
   "cell_type": "markdown",
   "metadata": {},
   "source": [
    "### 4. write a list of test pattern having a sequence of\n",
    "\n",
    ".lower case letter,\n",
    "\n",
    ".uppercase letter,\n",
    "\n",
    ".lower or upper\n",
    "\n",
    ".and one upper case followed by lower case"
   ]
  },
  {
   "cell_type": "code",
   "execution_count": 136,
   "metadata": {},
   "outputs": [
    {
     "name": "stdout",
     "output_type": "stream",
     "text": [
      "[['egex'], ['s'], ['difficult'], ['to'], ['grasp'], ['in'], ['short'], ['period'], ['of'], ['time']]\n",
      "[['R'], ['I']]\n",
      "[['Regex'], ['Is'], ['difficult'], ['to'], ['grasp'], ['in'], ['short'], ['period'], ['of'], ['time']]\n",
      "[['Regex'], ['Is']]\n"
     ]
    }
   ],
   "source": [
    "import re\n",
    "test_phrase = 'Regex Is difficult to grasp in short period of time'\n",
    "lower = []\n",
    "upper =[]\n",
    "combo =[]\n",
    "upper_and_lower=[]\n",
    "for word in test_phrase.split():\n",
    "    lower.append(re.findall(r\"[a-z]+\",word))\n",
    "print(lower)\n",
    "           \n",
    "#---------------------------------------------------\n",
    "for word in test_phrase.split():\n",
    "    m=upper.append(re.findall(r\"[A-Z]\",word))\n",
    "#upper1 = filter(None,upper)\n",
    "upper2 = [l for l in upper if l]\n",
    "print(upper2)\n",
    "  \n",
    "#-----------------------------------------------------\n",
    "for k in test_phrase.split():\n",
    "    combo.append(re.findall(r\"[a-zA-Z]+\",k))\n",
    "\n",
    "print(combo)\n",
    "\n",
    "#-----------------------------------------------------\n",
    "for n in test_phrase.split():\n",
    "    upper_and_lower.append(re.findall(r\"[A-Z][a-z]+\",n))\n",
    "upper_and_lower1 = [b for b in upper_and_lower if b]\n",
    "print(upper_and_lower1)\n",
    "    \n",
    "    \n"
   ]
  },
  {
   "cell_type": "code",
   "execution_count": 65,
   "metadata": {},
   "outputs": [
    {
     "ename": "AttributeError",
     "evalue": "'str' object has no attribute 'start'",
     "output_type": "error",
     "traceback": [
      "\u001b[0;31m---------------------------------------------------------------------------\u001b[0m",
      "\u001b[0;31mAttributeError\u001b[0m                            Traceback (most recent call last)",
      "\u001b[0;32m<ipython-input-65-fc242f3a8bc4>\u001b[0m in \u001b[0;36m<module>\u001b[0;34m\u001b[0m\n\u001b[1;32m      4\u001b[0m \u001b[0;34m\u001b[0m\u001b[0m\n\u001b[1;32m      5\u001b[0m \u001b[0;32mfor\u001b[0m \u001b[0mseq\u001b[0m \u001b[0;32min\u001b[0m \u001b[0mtest_phrase\u001b[0m\u001b[0;34m:\u001b[0m\u001b[0;34m\u001b[0m\u001b[0;34m\u001b[0m\u001b[0m\n\u001b[0;32m----> 6\u001b[0;31m     \u001b[0mlower_indx\u001b[0m\u001b[0;34m.\u001b[0m\u001b[0mappend\u001b[0m\u001b[0;34m(\u001b[0m\u001b[0mre\u001b[0m\u001b[0;34m.\u001b[0m\u001b[0mfindall\u001b[0m\u001b[0;34m(\u001b[0m\u001b[0;34m\"[a-z]\"\u001b[0m\u001b[0;34m,\u001b[0m \u001b[0mseq\u001b[0m\u001b[0;34m.\u001b[0m\u001b[0mstart\u001b[0m\u001b[0;34m(\u001b[0m\u001b[0;34m)\u001b[0m\u001b[0;34m)\u001b[0m\u001b[0;34m)\u001b[0m\u001b[0;34m\u001b[0m\u001b[0;34m\u001b[0m\u001b[0m\n\u001b[0m",
      "\u001b[0;31mAttributeError\u001b[0m: 'str' object has no attribute 'start'"
     ]
    }
   ],
   "source": [
    "import re\n",
    "\n",
    "lower_indx = []\n",
    "\n",
    "for seq in test_phrase:\n",
    "    lower_indx.append(re.findall(\"[a-z]\", seq.start()))\n"
   ]
  },
  {
   "cell_type": "markdown",
   "metadata": {},
   "source": [
    "### 4.write a list of test pattern having a sequence\n",
    "\n",
    "**-sequence of non-digits**\n",
    "\n",
    "**-sequence of whitespace**\n",
    "\n",
    "**-sequence of non-whitespace**\n",
    "\n",
    "**-alphanumeric characters**\n",
    "\n",
    "**-non-alphanumeric**"
   ]
  },
  {
   "cell_type": "code",
   "execution_count": 164,
   "metadata": {},
   "outputs": [
    {
     "name": "stdout",
     "output_type": "stream",
     "text": [
      "['T', 'h', 'i', 's', ' ', 'i', 's', ' ', 'a', ' ', 's', 't', 'r', 'i', 'n', 'g', ' ', 'w', 'i', 't', 'h', ' ', 's', 'o', 'm', 'e', ' ', 'n', 'u', 'm', 'b', 'e', 'r', 's', ' ', ' ', 'a', 'n', 'd', ' ', 'a', ' ', 's', 'y', 'm', 'b', 'o', 'l', ' ', '#', 'h', 'a', 's', 'h', 't', 'a', 'g']\n",
      "---------------------------------------------------------------------------------------------------------\n",
      "[' ', ' ', ' ', ' ', ' ', ' ', ' ', ' ', ' ', ' ', ' ']\n",
      "---------------------------------------------------------------------------------------------------------\n",
      "['T', 'h', 'i', 's', 'i', 's', 'a', 's', 't', 'r', 'i', 'n', 'g', 'w', 'i', 't', 'h', 's', 'o', 'm', 'e', 'n', 'u', 'm', 'b', 'e', 'r', 's', '1', '2', '3', '3', 'a', 'n', 'd', 'a', 's', 'y', 'm', 'b', 'o', 'l', '#', 'h', 'a', 's', 'h', 't', 'a', 'g']\n",
      "---------------------------------------------------------------------------------------------------------\n",
      "['T', 'h', 'i', 's', 'i', 's', 'a', 's', 't', 'r', 'i', 'n', 'g', 'w', 'i', 't', 'h', 's', 'o', 'm', 'e', 'n', 'u', 'm', 'b', 'e', 'r', 's', '1', '2', '3', '3', 'a', 'n', 'd', 'a', 's', 'y', 'm', 'b', 'o', 'l', 'h', 'a', 's', 'h', 't', 'a', 'g']\n",
      "---------------------------------------------------------------------------------------------------------\n",
      "[' ', ' ', ' ', ' ', ' ', ' ', ' ', ' ', ' ', ' ', ' ', '#']\n"
     ]
    }
   ],
   "source": [
    "nepal = 'This is a string with some numbers 1233 and a symbol #hashtag'\n",
    "non_digit = re.findall(r\"\\D\",nepal)\n",
    "sequence_of_whitespace= re.findall(r\"\\s\",nepal)\n",
    "print(non_digit)\n",
    "print(\"---------------------------------------------------------------------------------------------------------\")\n",
    "print(sequence_of_whitespace)\n",
    "print(\"---------------------------------------------------------------------------------------------------------\")\n",
    "sequence_of_nonwhitespace = re.findall(r\"\\S\",nepal)\n",
    "print(sequence_of_nonwhitespace)\n",
    "print(\"---------------------------------------------------------------------------------------------------------\")\n",
    "alphanumeric_characters = re.findall(r\"\\w\",nepal)\n",
    "print(alphanumeric_characters)\n",
    "print(\"---------------------------------------------------------------------------------------------------------\")\n",
    "alphanumeric_noncharacters = re.findall(r\"\\W\",nepal)\n",
    "\n",
    "print(alphanumeric_noncharacters)\n"
   ]
  },
  {
   "cell_type": "markdown",
   "metadata": {},
   "source": [
    "### 5.find the date from the given text"
   ]
  },
  {
   "cell_type": "code",
   "execution_count": 173,
   "metadata": {},
   "outputs": [
    {
     "name": "stdout",
     "output_type": "stream",
     "text": [
      "['12-12-1992']\n"
     ]
    }
   ],
   "source": [
    "text=\"is your birthday in 12-12-1992\"\n",
    "date_find = re.findall(r\"\\d{2}.\\d{2}.\\d{4}\",text)\n",
    "print(date_find)"
   ]
  },
  {
   "cell_type": "markdown",
   "metadata": {},
   "source": [
    "### 6 Write a regrex that find anything that start with bat "
   ]
  },
  {
   "cell_type": "code",
   "execution_count": 271,
   "metadata": {},
   "outputs": [
    {
     "name": "stdout",
     "output_type": "stream",
     "text": [
      "['batman', 'batmobile']\n"
     ]
    }
   ],
   "source": [
    "tent=\"Here comes the batman in batmobile\" \n",
    "m=re.findall(r\"\\bbat\\w+\",tent)\n",
    "print(m)\n"
   ]
  },
  {
   "cell_type": "markdown",
   "metadata": {},
   "source": [
    "### 7. write a regrex that find all the word that end with 'at'"
   ]
  },
  {
   "cell_type": "code",
   "execution_count": 269,
   "metadata": {},
   "outputs": [
    {
     "name": "stdout",
     "output_type": "stream",
     "text": [
      "['cat', 'hat', 'sat', 'flat', 'mat']\n"
     ]
    }
   ],
   "source": [
    "text=\"The cat in the hat sat flat on the mat.\"\n",
    "word = re.findall(r\"\\w*at\\b\",text)\n",
    "print(word)"
   ]
  },
  {
   "cell_type": "markdown",
   "metadata": {},
   "source": [
    "### 8.find the fistname and the last name of the person "
   ]
  },
  {
   "cell_type": "code",
   "execution_count": 277,
   "metadata": {},
   "outputs": [
    {
     "name": "stdout",
     "output_type": "stream",
     "text": [
      "['Travis']\n",
      "['Baker']\n"
     ]
    }
   ],
   "source": [
    "text=\"First Name: Travis Last Name: Baker\"\n",
    "\n",
    "firstname = re.findall(r\"\\bT\\w+\",text)\n",
    "lastname= re.findall(r\"\\bB\\w+\",text)\n",
    "\n",
    "print(firstname)\n",
    "print(lastname)"
   ]
  },
  {
   "cell_type": "markdown",
   "metadata": {},
   "source": [
    "### 9.find all the words with an internal o. "
   ]
  },
  {
   "cell_type": "code",
   "execution_count": 366,
   "metadata": {},
   "outputs": [
    {
     "name": "stdout",
     "output_type": "stream",
     "text": [
      "['own', 'ox', 'over']\n"
     ]
    }
   ],
   "source": [
    "text=\"the quick brown fox over \"\n",
    "internal_o= re.findall(r\"o\\w+\",text)\n",
    "print(internal_o)"
   ]
  },
  {
   "cell_type": "markdown",
   "metadata": {},
   "source": [
    "### 10.find that begin or end with o "
   ]
  },
  {
   "cell_type": "code",
   "execution_count": 286,
   "metadata": {},
   "outputs": [
    {
     "name": "stdout",
     "output_type": "stream",
     "text": [
      "['over']\n"
     ]
    }
   ],
   "source": [
    "text=\"quick brown fox jumps over a lazy dog\"\n",
    "\n",
    "n = re.findall(r\"\\bo\\w+\",text)\n",
    "print(n)"
   ]
  },
  {
   "cell_type": "markdown",
   "metadata": {},
   "source": [
    "### 11.print the answer inthe given format . hint use re.sub "
   ]
  },
  {
   "cell_type": "code",
   "execution_count": 289,
   "metadata": {},
   "outputs": [
    {
     "name": "stdout",
     "output_type": "stream",
     "text": [
      "quick =brown =fox =jumps =over =a =lazy =dog\n"
     ]
    }
   ],
   "source": [
    "text=\"quick brown fox jumps over a lazy dog\"\n",
    "m = re.sub(' ',' =',text)\n",
    "print(m)"
   ]
  },
  {
   "cell_type": "markdown",
   "metadata": {},
   "source": [
    "### 12. get the month from the given text "
   ]
  },
  {
   "cell_type": "code",
   "execution_count": 369,
   "metadata": {},
   "outputs": [
    {
     "name": "stdout",
     "output_type": "stream",
     "text": [
      "['10', '02']\n"
     ]
    }
   ],
   "source": [
    "text=\"bill gate was born in 28-10-1955 and will was born in 1-02-2000\"\n",
    "month_date = re.findall(r\"(?<=\\d\\-)\\d+(?=\\-\\d)\",text)\n",
    "print(month_date)\n"
   ]
  },
  {
   "cell_type": "markdown",
   "metadata": {},
   "source": [
    "### 13 splits before every o "
   ]
  },
  {
   "cell_type": "code",
   "execution_count": 306,
   "metadata": {},
   "outputs": [
    {
     "name": "stdout",
     "output_type": "stream",
     "text": [
      "['pyth', 'n is an ', 'bject ', 'riented langugae']\n"
     ]
    }
   ],
   "source": [
    "text=\"python is an object oriented langugae\"\n",
    "n = re.split(r\"o\",text)\n",
    "print(n)"
   ]
  },
  {
   "cell_type": "markdown",
   "metadata": {},
   "source": [
    "### 14. write a pattern that find dogs and dog"
   ]
  },
  {
   "cell_type": "code",
   "execution_count": 316,
   "metadata": {},
   "outputs": [
    {
     "name": "stdout",
     "output_type": "stream",
     "text": [
      "['dogs', 'dog', 'doesn']\n"
     ]
    }
   ],
   "source": [
    "test_string = \"I like dogs but my dog doesn't like me.\"\n",
    "b = re.findall(r\"(?:do)[a-z0-9]+\",test_string)\n",
    "print(b)"
   ]
  },
  {
   "cell_type": "code",
   "execution_count": 317,
   "metadata": {},
   "outputs": [
    {
     "name": "stdout",
     "output_type": "stream",
     "text": [
      "['dogs', 'dog']\n"
     ]
    }
   ],
   "source": [
    "test_string = \"I like dogs but my dog doesn't like me.\"\n",
    "b = re.findall(r\"dogs|dog\",test_string)\n",
    "print(b)"
   ]
  },
  {
   "cell_type": "markdown",
   "metadata": {},
   "source": [
    "### 15.Find all the p's and q's in the test string below. "
   ]
  },
  {
   "cell_type": "code",
   "execution_count": 323,
   "metadata": {},
   "outputs": [
    {
     "name": "stdout",
     "output_type": "stream",
     "text": [
      "['pizzaz', 'path', 'queensland']\n"
     ]
    }
   ],
   "source": [
    "test_string = \"Quick, pizzaz shop is closing. Is this a path to queensland?\"\n",
    "h = re.findall(r\"(?:p|q)[a-z0-9]+\",test_string)\n",
    "print(h)"
   ]
  },
  {
   "cell_type": "markdown",
   "metadata": {},
   "source": [
    "### 16.find everything except t in word "
   ]
  },
  {
   "cell_type": "code",
   "execution_count": 331,
   "metadata": {},
   "outputs": [
    {
     "name": "stdout",
     "output_type": "stream",
     "text": [
      "['h', 'e', ' ', 'q', 'u', 'i', 'c', 'k', ' ', 'b', 'r', 'o', 'w', 'n', ' ', 'f', 'o', 'x', ' ', 'j', 'u', 'm', 'p', 'e', 'd', ' ', 'o', 'v', 'e', 'r', ' ', 'h', 'e', ' ', 'l', 'a', 'z', 'y', ' ', 'd', 'o', 'g']\n"
     ]
    }
   ],
   "source": [
    "test_string = 'the quick brown fox jumped over the lazy dog'\n",
    "v = re.findall(r\"[^t]\",test_string)\n",
    "print(v)"
   ]
  },
  {
   "cell_type": "markdown",
   "metadata": {},
   "source": [
    "### 17.Find all the ^ characters in the following test sentence. "
   ]
  },
  {
   "cell_type": "code",
   "execution_count": 344,
   "metadata": {},
   "outputs": [
    {
     "name": "stdout",
     "output_type": "stream",
     "text": [
      "['^', '^', '^', '^']\n"
     ]
    }
   ],
   "source": [
    "test_string = \"\"\"You can match the characters not listed within the class by complementing the set. \n",
    "\n",
    "This is indicated by including a ^ as the first character of the class; \n",
    "\n",
    "^ outside a character class will simply match the ^ character. \n",
    "\n",
    "For example, [^5] will match any character except 5.\"\"\"\n",
    "\n",
    "c = re.findall(r\"\\^\",test_string)\n",
    "print(c)"
   ]
  },
  {
   "cell_type": "markdown",
   "metadata": {},
   "source": [
    "### 18. Find all three digit prices in the following test sentence"
   ]
  },
  {
   "cell_type": "code",
   "execution_count": 345,
   "metadata": {},
   "outputs": [
    {
     "name": "stdout",
     "output_type": "stream",
     "text": [
      "['$999', '$550']\n"
     ]
    }
   ],
   "source": [
    "test_string = 'The Mac book cost over $999, while the windows system can be bought for less than $550.'\n",
    "f= re.findall(r\"\\$\\d+\",test_string)\n",
    "print(f)"
   ]
  },
  {
   "cell_type": "markdown",
   "metadata": {},
   "source": [
    "### 19. Find all prices in the following test sentence."
   ]
  },
  {
   "cell_type": "code",
   "execution_count": 347,
   "metadata": {},
   "outputs": [
    {
     "name": "stdout",
     "output_type": "stream",
     "text": [
      "['$999', '$550', '$1200', '$2500', '$30', '$390']\n"
     ]
    }
   ],
   "source": [
    "test_string = \"\"\"The iPhone X costs over $999, while the Android cost around $550.\n",
    "\n",
    "Apple's MacBook Pro costs $1200, while razer blade cost $2500.\n",
    "\n",
    "A new charger for iphone cost over $30.\n",
    "\n",
    "Bose headphone cost around $390\n",
    "\n",
    "\"\"\"\n",
    "\n",
    "d = re.findall(r\"\\$\\d+\",test_string)\n",
    "print(d)"
   ]
  },
  {
   "cell_type": "markdown",
   "metadata": {},
   "source": [
    "### 20.find all the better in the given text "
   ]
  },
  {
   "cell_type": "code",
   "execution_count": 349,
   "metadata": {},
   "outputs": [
    {
     "name": "stdout",
     "output_type": "stream",
     "text": [
      "['better', 'better', 'better', 'better', 'better', 'better', 'better', 'better']\n"
     ]
    }
   ],
   "source": [
    "robot_string = '''The Zen of Python, by Tim Peters\n",
    "\n",
    "Beautiful is better than ugly.\n",
    "Explicit is better than implicit.\n",
    "Simple is better than complex.\n",
    "Complex is better than complicated.\n",
    "Flat is better than nested.\n",
    "Sparse is better than dense.\n",
    "Readability counts.\n",
    "Special cases aren't special enough to break the rules.\n",
    "Although practicality beats purity.\n",
    "Errors should never pass silently.\n",
    "Unless explicitly silenced.\n",
    "In the face of ambiguity, refuse the temptation to guess.\n",
    "There should be one-- and preferably only one --obvious way to do it.\n",
    "Although that way may not be obvious at first unless you're Dutch.\n",
    "Now is better than never.\n",
    "Although never is often better than *right* now.\n",
    "If the implementation is hard to explain, it's a bad idea.\n",
    "If the implementation is easy to explain, it may be a good idea.\n",
    "Namespaces are one honking great idea -- let's do more of those!\n",
    "'''\n",
    "\n",
    "j = re.findall(r\"better\",robot_string)\n",
    "print(j)"
   ]
  },
  {
   "cell_type": "markdown",
   "metadata": {},
   "source": [
    "### 21.find the word that start with bat and end with man "
   ]
  },
  {
   "cell_type": "code",
   "execution_count": 354,
   "metadata": {},
   "outputs": [
    {
     "name": "stdout",
     "output_type": "stream",
     "text": [
      "[]\n"
     ]
    }
   ],
   "source": [
    "test_string = 'Batman is the best movies, batwoman never herad about it.'\n",
    "s = re.findall(r\"\\bbat\\w+\\w*at\\b\",test_string)\n",
    "print(s)"
   ]
  },
  {
   "cell_type": "markdown",
   "metadata": {},
   "source": [
    "### 22.remove the year form the given list "
   ]
  },
  {
   "cell_type": "code",
   "execution_count": 358,
   "metadata": {},
   "outputs": [
    {
     "name": "stdout",
     "output_type": "stream",
     "text": [
      "Another You  \n"
     ]
    }
   ],
   "source": [
    "str1=\"Another You (1991-2000)\"\n",
    "k = re.sub(r\"\\(\\d{4}-\\d{4}\\)\",\" \",str1)\n",
    "print(k)"
   ]
  },
  {
   "cell_type": "markdown",
   "metadata": {},
   "source": [
    "### 23. write a regex to find the url_name only"
   ]
  },
  {
   "cell_type": "code",
   "execution_count": 363,
   "metadata": {},
   "outputs": [
    {
     "name": "stdout",
     "output_type": "stream",
     "text": [
      "['google-map']\n"
     ]
    }
   ],
   "source": [
    "name=\"http://www.google-map.com\"\n",
    "h = re.findall(r\"\\bg\\w+-.{3}\",name)\n",
    "print(h)"
   ]
  },
  {
   "cell_type": "markdown",
   "metadata": {},
   "source": [
    "### 24.use regrex to find the size of the screen "
   ]
  },
  {
   "cell_type": "code",
   "execution_count": 378,
   "metadata": {},
   "outputs": [
    {
     "name": "stdout",
     "output_type": "stream",
     "text": [
      "<generator object <genexpr> at 0x7fdb3eb76b30>\n"
     ]
    }
   ],
   "source": [
    "\n",
    "doc=[\"Lenovo IdeaPad S145 Laptop 39,6 cm (15,6 Zoll, 1920x1080, FHD, matt) Slim Notebook (Intel Pentium N5000, 8 GB RAM, 512 GB SSD, Intel UHD-Grafik 605, Windows 10 Home) schwarz\",\n",
    "\"HP Notebook (15,6 Zoll), HD Display, AMD A4 2 x 2.50 GHz, 8 GB RAM, 256 GB SSD, HDMI, AMD R3 Grafik, Webcam, Windows 10 Pro\",\n",
    "'Neu Apple MacBook Air (13\", 1,1 GHz dual-core Intel Core i3 Prozessor der 10. Generation, 8 GB RAM, 256 GB) - Silber',\n",
    "'Lenovo (17,3 Zoll) Notebook (Intel Pentium 5405U 4-Thread CPU, 2.30 GHz, 8GB DDR4 RAM, 256GB SSD, 1000GB, DVD±RW, Intel HD, HDMI, Webcam, Bluetooth, USB3.0, WLAN, Win 10 Prof. 64, MS Office) #6477']\n",
    "\n",
    "\n",
    "\n",
    "\n",
    "\n"
   ]
  },
  {
   "cell_type": "markdown",
   "metadata": {},
   "source": [
    "### 25.write a expressoion to get a name and phonenumber for the person whose name start with j and end with neu "
   ]
  },
  {
   "cell_type": "code",
   "execution_count": 383,
   "metadata": {},
   "outputs": [
    {
     "name": "stdout",
     "output_type": "stream",
     "text": [
      "[('Jack Neu', '555-7666'), ('Jeb Neu', '555-5543'), ('Jennifer Neu', '555-3652')]\n"
     ]
    }
   ],
   "source": [
    "phones=\"\"\"Earn Cash For Your Teeth 555-6312\n",
    "Family Therapy Center 555-HUGS\n",
    "Homer Jay Simpson (Plow King episode) 555-3223\n",
    "Homer Jay Simpson (work) 555-7334\n",
    "Jack Neu 555-7666\n",
    "Jeb Neu 555-5543\n",
    "Jennifer Neu 555-3652\n",
    "Ken Neu 555-8752\n",
    "Lionel Putz 555-5299\n",
    "MAD Magazine 555-8628\n",
    "Marital Street Hotline 555-1680\n",
    "Marvin Monroe 555-3700\n",
    "Marvin Monroe's radio therapy show 555-PAIN\n",
    "Moe Szyslak (phone number spells SMITHERS) 7648-4377\n",
    "Moe Szyslak 555-0000\n",
    "Moe's Tavern 555-1239\n",
    "Mr. Plow 555-3226\"\"\"\n",
    "\n",
    "num = re.findall(r\"(\\bJ\\w+\\sNeu\\b)\\s(\\d{3}-\\d{4})\",phones)\n",
    "print(num)"
   ]
  },
  {
   "cell_type": "markdown",
   "metadata": {},
   "source": [
    "### 26.from the given input find the month either feb or feburary and the year "
   ]
  },
  {
   "cell_type": "code",
   "execution_count": 387,
   "metadata": {},
   "outputs": [
    {
     "name": "stdout",
     "output_type": "stream",
     "text": [
      "[('February', '2011'), ('Feb', '2012'), ('Feb', '2016')]\n"
     ]
    }
   ],
   "source": [
    "year=\" February 2011 and Feb 2012 was the worst year the Feb 2016\"\n",
    "yr = re.findall(r\"(\\bF\\w+)\\s(\\d{4})\",year)\n",
    "print(yr)"
   ]
  },
  {
   "cell_type": "markdown",
   "metadata": {},
   "source": [
    "### 27.from the given tag get the text as: \n",
    "composer:  steven wilson \n",
    "\n",
    "author:  wilson \n",
    "\n",
    "city:  kingston\n",
    "\n",
    "band: porcupine tree\n",
    "\n",
    "song: Yellow Hedgerow Dreamscape"
   ]
  },
  {
   "cell_type": "code",
   "execution_count": 392,
   "metadata": {},
   "outputs": [
    {
     "ename": "ValueError",
     "evalue": "Invalid format specifier",
     "output_type": "error",
     "traceback": [
      "\u001b[0;31m---------------------------------------------------------------------------\u001b[0m",
      "\u001b[0;31mValueError\u001b[0m                                Traceback (most recent call last)",
      "\u001b[0;32m<ipython-input-392-e6d4c7e89b53>\u001b[0m in \u001b[0;36m<module>\u001b[0;34m\u001b[0m\n\u001b[1;32m      6\u001b[0m \u001b[0;34m\u001b[0m\u001b[0m\n\u001b[1;32m      7\u001b[0m \u001b[0me\u001b[0m \u001b[0;34m=\u001b[0m \u001b[0mre\u001b[0m\u001b[0;34m.\u001b[0m\u001b[0mfindall\u001b[0m\u001b[0;34m(\u001b[0m\u001b[0;34mr\"(\\<(\\w+))>([^<]+)\"\u001b[0m\u001b[0;34m,\u001b[0m\u001b[0ma\u001b[0m\u001b[0;34m)\u001b[0m\u001b[0;34m\u001b[0m\u001b[0;34m\u001b[0m\u001b[0m\n\u001b[0;32m----> 8\u001b[0;31m \u001b[0mprint\u001b[0m\u001b[0;34m(\u001b[0m\u001b[0;34m\"\\n\"\u001b[0m\u001b[0;34m.\u001b[0m\u001b[0mjoin\u001b[0m\u001b[0;34m(\u001b[0m\u001b[0;34mf\"{p[1]:p[2]}\"\u001b[0m \u001b[0;32mfor\u001b[0m \u001b[0mp\u001b[0m \u001b[0;32min\u001b[0m \u001b[0me\u001b[0m\u001b[0;34m)\u001b[0m\u001b[0;34m)\u001b[0m\u001b[0;34m\u001b[0m\u001b[0;34m\u001b[0m\u001b[0m\n\u001b[0m",
      "\u001b[0;32m<ipython-input-392-e6d4c7e89b53>\u001b[0m in \u001b[0;36m<genexpr>\u001b[0;34m(.0)\u001b[0m\n\u001b[1;32m      6\u001b[0m \u001b[0;34m\u001b[0m\u001b[0m\n\u001b[1;32m      7\u001b[0m \u001b[0me\u001b[0m \u001b[0;34m=\u001b[0m \u001b[0mre\u001b[0m\u001b[0;34m.\u001b[0m\u001b[0mfindall\u001b[0m\u001b[0;34m(\u001b[0m\u001b[0;34mr\"(\\<(\\w+))>([^<]+)\"\u001b[0m\u001b[0;34m,\u001b[0m\u001b[0ma\u001b[0m\u001b[0;34m)\u001b[0m\u001b[0;34m\u001b[0m\u001b[0;34m\u001b[0m\u001b[0m\n\u001b[0;32m----> 8\u001b[0;31m \u001b[0mprint\u001b[0m\u001b[0;34m(\u001b[0m\u001b[0;34m\"\\n\"\u001b[0m\u001b[0;34m.\u001b[0m\u001b[0mjoin\u001b[0m\u001b[0;34m(\u001b[0m\u001b[0;34mf\"{p[1]:p[2]}\"\u001b[0m \u001b[0;32mfor\u001b[0m \u001b[0mp\u001b[0m \u001b[0;32min\u001b[0m \u001b[0me\u001b[0m\u001b[0;34m)\u001b[0m\u001b[0;34m)\u001b[0m\u001b[0;34m\u001b[0m\u001b[0;34m\u001b[0m\u001b[0m\n\u001b[0m",
      "\u001b[0;31mValueError\u001b[0m: Invalid format specifier"
     ]
    }
   ],
   "source": [
    "a=\"\"\"<composer> steven wilson </composer>\n",
    "    <author> wilson </author>\n",
    "    <city> kingston </city>\n",
    "    <band>porcupine tree</band>\n",
    "    <song>Yellow Hedgerow Dreamscape</song>\"\"\"\n",
    "\n",
    "e = re.findall(r\"(\\<(\\w+))>([^<]+)\",a)\n",
    "print(\"\\n\".join(f\"{p[1]:p[2]}\" for p in e))"
   ]
  },
  {
   "cell_type": "markdown",
   "metadata": {},
   "source": [
    "### 28.from the given list of string print get the output as "
   ]
  },
  {
   "cell_type": "code",
   "execution_count": 401,
   "metadata": {},
   "outputs": [
    {
     "name": "stdout",
     "output_type": "stream",
     "text": [
      "Allison Neu 99-12332-213123\n",
      "Lionel Messi 123-5435-453534\n",
      "Mark zukerberg 555-5299-32\n",
      "Homer Simpson 55-7334-324\n"
     ]
    }
   ],
   "source": [
    "l = [\"99-12332-213123 Neu, Allison\", \n",
    "     \" 123-5435-453534 Messi, Lionel\", \n",
    "     \"555-5299-32 zukerberg, Mark\",\n",
    "     \"55-7334-324 Simpson, Homer Jay\"]\n",
    "\n",
    "for i in l:\n",
    "    k=re.search(r\"(\\d+-\\d+-\\d+)\\s([A-Za-z]+)\\,\\s([A-Za-z]+)\",i)\n",
    "    print(f\"{k.group(3)} {k.group(2)} {k.group(1)}\")"
   ]
  },
  {
   "cell_type": "markdown",
   "metadata": {},
   "source": [
    "### 29.from the given string use a named capturing group to get the the hour,min,sec . "
   ]
  },
  {
   "cell_type": "code",
   "execution_count": null,
   "metadata": {},
   "outputs": [],
   "source": [
    "da = \"Sun Oct 14 12:48:13 CEST 2021\"\n",
    "r = re.search(r\"\")"
   ]
  }
 ],
 "metadata": {
  "kernelspec": {
   "display_name": "Python 3",
   "language": "python",
   "name": "python3"
  },
  "language_info": {
   "codemirror_mode": {
    "name": "ipython",
    "version": 3
   },
   "file_extension": ".py",
   "mimetype": "text/x-python",
   "name": "python",
   "nbconvert_exporter": "python",
   "pygments_lexer": "ipython3",
   "version": "3.8.1"
  }
 },
 "nbformat": 4,
 "nbformat_minor": 4
}
